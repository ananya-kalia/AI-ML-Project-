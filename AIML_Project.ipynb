{
  "nbformat": 4,
  "nbformat_minor": 0,
  "metadata": {
    "colab": {
      "provenance": []
    },
    "kernelspec": {
      "name": "python3",
      "display_name": "Python 3"
    },
    "language_info": {
      "name": "python"
    }
  },
  "cells": [
    {
      "cell_type": "code",
      "execution_count": null,
      "metadata": {
        "colab": {
          "base_uri": "https://localhost:8080/",
          "height": 592
        },
        "id": "acSF3isQorOC",
        "outputId": "ebfc85a6-d63d-4d47-959a-27e5911ca6f3"
      },
      "outputs": [
        {
          "output_type": "stream",
          "name": "stderr",
          "text": [
            "<ipython-input-1-bb861dadb5d9>:29: FutureWarning: Setting an item of incompatible dtype is deprecated and will raise an error in a future version of pandas. Value '30.5' has dtype incompatible with int64, please explicitly cast to a compatible dtype first.\n",
            "  data.loc[data[column] == 0, column] = data[column].median()\n"
          ]
        },
        {
          "output_type": "stream",
          "name": "stdout",
          "text": [
            "\n",
            "Logistic Regression Performance:\n",
            "Accuracy: 73.75\n",
            "Precision: 76.11\n",
            "\n",
            "Random Forest Performance:\n",
            "Accuracy: 81.50\n",
            "Precision: 79.65\n",
            "\n",
            "Support Vector Machine Performance:\n",
            "Accuracy: 79.38\n",
            "Precision: 77.99\n",
            "\n",
            "K-Nearest Neighbors Performance:\n",
            "Accuracy: 76.63\n",
            "Precision: 73.43\n",
            "\n",
            "Best Model: Random Forest\n",
            "Accuracy: 81.50% Precision: 79.65%\n",
            "Pregnancies (0-17): 6\n",
            "Glucose (0-199): 180\n",
            "Blood Pressure (0-122): 114\n",
            "Skin Thickness (0-99): 45\n",
            "Insulin (0-846): 235\n",
            "BMI (0-67): 56\n",
            "Diabetes Pedigree Function (0.078-2.42): 1.23\n",
            "Age (21-81): 34\n",
            "\n",
            "Sample Prediction (0 = No Diabetes, 1 = Diabetes): 1\n",
            "Probability of Diabetes: 0.70\n"
          ]
        },
        {
          "output_type": "display_data",
          "data": {
            "text/plain": [
              "<IPython.core.display.Javascript object>"
            ],
            "application/javascript": [
              "\n",
              "    async function download(id, filename, size) {\n",
              "      if (!google.colab.kernel.accessAllowed) {\n",
              "        return;\n",
              "      }\n",
              "      const div = document.createElement('div');\n",
              "      const label = document.createElement('label');\n",
              "      label.textContent = `Downloading \"${filename}\": `;\n",
              "      div.appendChild(label);\n",
              "      const progress = document.createElement('progress');\n",
              "      progress.max = size;\n",
              "      div.appendChild(progress);\n",
              "      document.body.appendChild(div);\n",
              "\n",
              "      const buffers = [];\n",
              "      let downloaded = 0;\n",
              "\n",
              "      const channel = await google.colab.kernel.comms.open(id);\n",
              "      // Send a message to notify the kernel that we're ready.\n",
              "      channel.send({})\n",
              "\n",
              "      for await (const message of channel.messages) {\n",
              "        // Send a message to notify the kernel that we're ready.\n",
              "        channel.send({})\n",
              "        if (message.buffers) {\n",
              "          for (const buffer of message.buffers) {\n",
              "            buffers.push(buffer);\n",
              "            downloaded += buffer.byteLength;\n",
              "            progress.value = downloaded;\n",
              "          }\n",
              "        }\n",
              "      }\n",
              "      const blob = new Blob(buffers, {type: 'application/binary'});\n",
              "      const a = document.createElement('a');\n",
              "      a.href = window.URL.createObjectURL(blob);\n",
              "      a.download = filename;\n",
              "      div.appendChild(a);\n",
              "      a.click();\n",
              "      div.remove();\n",
              "    }\n",
              "  "
            ]
          },
          "metadata": {}
        },
        {
          "output_type": "display_data",
          "data": {
            "text/plain": [
              "<IPython.core.display.Javascript object>"
            ],
            "application/javascript": [
              "download(\"download_6a52e7b9-f269-4a29-93b0-3b05065f15b5\", \"diabetes_model.pkl\", 2113465)"
            ]
          },
          "metadata": {}
        },
        {
          "output_type": "display_data",
          "data": {
            "text/plain": [
              "<IPython.core.display.Javascript object>"
            ],
            "application/javascript": [
              "\n",
              "    async function download(id, filename, size) {\n",
              "      if (!google.colab.kernel.accessAllowed) {\n",
              "        return;\n",
              "      }\n",
              "      const div = document.createElement('div');\n",
              "      const label = document.createElement('label');\n",
              "      label.textContent = `Downloading \"${filename}\": `;\n",
              "      div.appendChild(label);\n",
              "      const progress = document.createElement('progress');\n",
              "      progress.max = size;\n",
              "      div.appendChild(progress);\n",
              "      document.body.appendChild(div);\n",
              "\n",
              "      const buffers = [];\n",
              "      let downloaded = 0;\n",
              "\n",
              "      const channel = await google.colab.kernel.comms.open(id);\n",
              "      // Send a message to notify the kernel that we're ready.\n",
              "      channel.send({})\n",
              "\n",
              "      for await (const message of channel.messages) {\n",
              "        // Send a message to notify the kernel that we're ready.\n",
              "        channel.send({})\n",
              "        if (message.buffers) {\n",
              "          for (const buffer of message.buffers) {\n",
              "            buffers.push(buffer);\n",
              "            downloaded += buffer.byteLength;\n",
              "            progress.value = downloaded;\n",
              "          }\n",
              "        }\n",
              "      }\n",
              "      const blob = new Blob(buffers, {type: 'application/binary'});\n",
              "      const a = document.createElement('a');\n",
              "      a.href = window.URL.createObjectURL(blob);\n",
              "      a.download = filename;\n",
              "      div.appendChild(a);\n",
              "      a.click();\n",
              "      div.remove();\n",
              "    }\n",
              "  "
            ]
          },
          "metadata": {}
        },
        {
          "output_type": "display_data",
          "data": {
            "text/plain": [
              "<IPython.core.display.Javascript object>"
            ],
            "application/javascript": [
              "download(\"download_5359e1f6-838b-4b9a-b1bd-847cfdd6bf50\", \"scaler.pkl\", 1239)"
            ]
          },
          "metadata": {}
        }
      ],
      "source": [
        "# Install required libraries for imbalanced learning and XGBoost\n",
        "!pip install -q imbalanced-learn xgboost\n",
        "# Import necessary libraries\n",
        "import pandas as pd\n",
        "import numpy as np\n",
        "from sklearn.model_selection import KFold, cross_val_score, train_test_split\n",
        "from sklearn.linear_model import LogisticRegression\n",
        "from sklearn.ensemble import RandomForestClassifier\n",
        "from sklearn.svm import SVC\n",
        "from sklearn.neighbors import KNeighborsClassifier\n",
        "from sklearn.metrics import accuracy_score, precision_score, recall_score, f1_score, roc_auc_score, confusion_matrix\n",
        "from imblearn.over_sampling import SMOTE\n",
        "from sklearn.preprocessing import StandardScaler\n",
        "import warnings\n",
        "import joblib\n",
        "from google.colab import files\n",
        "# Suppress the specific UserWarning from sklearn\n",
        "warnings.filterwarnings(\"ignore\", category=UserWarning, module='sklearn.base')\n",
        "# Load Dataset\n",
        "url = 'https://raw.githubusercontent.com/plotly/datasets/master/diabetes.csv'\n",
        "try:\n",
        "    data = pd.read_csv(url)\n",
        "except Exception as e:\n",
        "    print(\"Error loading data:\", e)\n",
        "\n",
        "# Data Preprocessing\n",
        "# Handle missing values and separate features/target\n",
        "for column in ['Glucose', 'BloodPressure', 'SkinThickness', 'Insulin', 'BMI']:\n",
        "    data.loc[data[column] == 0, column] = data[column].median()\n",
        "\n",
        "X = data.drop('Outcome', axis=1)\n",
        "y = data['Outcome']\n",
        "\n",
        "# Balance classes using SMOTE\n",
        "smote = SMOTE(random_state=42)\n",
        "X, y = smote.fit_resample(X, y)\n",
        "\n",
        "# Scale features\n",
        "scaler = StandardScaler()\n",
        "X = scaler.fit_transform(X)\n",
        "\n",
        "# Split the dataset into training and testing sets\n",
        "X_train, X_test, y_train, y_test = train_test_split(X, y, test_size=0.2, random_state=42, stratify=y)\n",
        "\n",
        "# Check the shapes of the training and testing sets\n",
        "X_train.shape, X_test.shape, y_train.shape, y_test.shape\n",
        "\n",
        "# Define Models for Comparison\n",
        "models = {\n",
        "    'Logistic Regression': LogisticRegression(max_iter=200),\n",
        "    'Random Forest': RandomForestClassifier(),\n",
        "    'Support Vector Machine': SVC(probability=True),\n",
        "    'K-Nearest Neighbors': KNeighborsClassifier(),\n",
        "}\n",
        "\n",
        "# Model Training and Evaluation with K-Fold Cross Validation\n",
        "kf = KFold(n_splits=5, shuffle=True, random_state=42)\n",
        "results = {}\n",
        "\n",
        "for model_name, model in models.items():\n",
        "    with np.errstate(divide='ignore', invalid='ignore'):\n",
        "        accuracy = cross_val_score(model, X_train, y_train, cv=kf, scoring='accuracy').mean() * 100\n",
        "        precision = cross_val_score(model, X_train, y_train, cv=kf, scoring='precision').mean() * 100\n",
        "        results[model_name] = {'Accuracy': accuracy, 'Precision': precision}\n",
        "\n",
        "# Display results for each model\n",
        "for model_name, metrics in results.items():\n",
        "    print(f\"\\n{model_name} Performance:\")\n",
        "    for metric, score in metrics.items():\n",
        "        print(f\"{metric}: {score:.2f}\")\n",
        "\n",
        "best_model_name = max(results, key=lambda x: (results[x]['Accuracy'], results[x]['Precision']))\n",
        "best_model_metrics = results[best_model_name]\n",
        "print(f\"\\nBest Model: {best_model_name}\")\n",
        "print(f\"Accuracy: {best_model_metrics['Accuracy']:.2f}%\", f\"Precision: {best_model_metrics['Precision']:.2f}%\")\n",
        "# Test the Best Model on Sample Input Data\n",
        "# Here, we select the best model based on accuracy and precision\n",
        "best_model = models[best_model_name]\n",
        "best_model.fit(X_train, y_train)  # Train on the full training dataset after K-Fold validation\n",
        "\n",
        "try:\n",
        "    # Collect user inputs for each feature\n",
        "    user_input = []\n",
        "    user_input.append(float(input(\"Pregnancies (0-17): \")))\n",
        "    user_input.append(float(input(\"Glucose (0-199): \")))\n",
        "    user_input.append(float(input(\"Blood Pressure (0-122): \")))\n",
        "    user_input.append(float(input(\"Skin Thickness (0-99): \")))\n",
        "    user_input.append(float(input(\"Insulin (0-846): \")))\n",
        "    user_input.append(float(input(\"BMI (0-67): \")))\n",
        "    user_input.append(float(input(\"Diabetes Pedigree Function (0.078-2.42): \")))\n",
        "    user_input.append(float(input(\"Age (21-81): \")))\n",
        "\n",
        "    # Convert to numpy array and scale the input\n",
        "    user_input_scaled = scaler.transform(np.array([user_input]))\n",
        "\n",
        "    # Make prediction\n",
        "    with np.errstate(divide='ignore', invalid='ignore'):\n",
        "        prediction = best_model.predict(user_input_scaled)\n",
        "        prediction_proba = best_model.predict_proba(user_input_scaled)\n",
        "\n",
        "    # Output prediction and probability\n",
        "    print(f\"\\nSample Prediction (0 = No Diabetes, 1 = Diabetes): {prediction[0]}\")\n",
        "    print(f\"Probability of Diabetes: {prediction_proba[0][1]:.2f}\")\n",
        "\n",
        "except ValueError:\n",
        "    print(\"Invalid input. Please enter numeric values.\")\n",
        "# After training your best model\n",
        "joblib.dump(best_model, 'diabetes_model.pkl')\n",
        "joblib.dump(scaler, 'scaler.pkl')\n",
        "\n",
        "files.download('diabetes_model.pkl')\n",
        "files.download('scaler.pkl')"
      ]
    }
  ]
}